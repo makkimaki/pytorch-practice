{
  "nbformat": 4,
  "nbformat_minor": 0,
  "metadata": {
    "colab": {
      "name": "torchvision_finetuning_instance_segmentation.ipynb",
      "provenance": [],
      "authorship_tag": "ABX9TyPU9lJjQQheTM4zqN4APSxc",
      "include_colab_link": true
    },
    "kernelspec": {
      "name": "python3",
      "display_name": "Python 3"
    },
    "language_info": {
      "name": "python"
    }
  },
  "cells": [
    {
      "cell_type": "markdown",
      "metadata": {
        "id": "view-in-github",
        "colab_type": "text"
      },
      "source": [
        "<a href=\"https://colab.research.google.com/github/makkimaki/pytorch-practice/blob/main/torchvision_finetuning_instance_segmentation.ipynb\" target=\"_parent\"><img src=\"https://colab.research.google.com/assets/colab-badge.svg\" alt=\"Open In Colab\"/></a>"
      ]
    },
    {
      "cell_type": "markdown",
      "source": [
        "## Defining the Dataset\n"
      ],
      "metadata": {
        "id": "gKG031bi47WC"
      }
    },
    {
      "cell_type": "markdown",
      "source": [
        "- object detection\n",
        "- instance segmentation\n",
        "- person keypoint detection\n",
        "\n",
        "欲しいデータセット\n",
        "- image: PIL image, size of `(H, W)`\n",
        "- target: a dict\n",
        "    * `boxes (FloatTensor[N, 4])`: N bounding boxの座標[x0, y0, x1, y1] フォーマット。各要素はどれも0`~`W, 0`~`H \n",
        "    * labels\n",
        "    * image_id\n",
        "    * area\n",
        "    * `iscrowd`\n",
        "    * (optionally) `masks` \n",
        "    * (optionally) `keypoints`\n",
        "\n",
        "以上のメソッドをモデルが返してくれれば、学習と評価ができる。評価用スクリプト`pycocotools`は、`pip install pycocotools`でインストールできる"
      ],
      "metadata": {
        "id": "RebYuFeB5WD2"
      }
    },
    {
      "cell_type": "code",
      "execution_count": null,
      "metadata": {
        "id": "byBjArcF4oLd"
      },
      "outputs": [],
      "source": [
        ""
      ]
    },
    {
      "cell_type": "code",
      "source": [
        ""
      ],
      "metadata": {
        "id": "4l_1VWl34_Ve"
      },
      "execution_count": null,
      "outputs": []
    }
  ]
}